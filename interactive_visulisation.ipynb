{
 "cells": [
  {
   "cell_type": "code",
   "execution_count": 1,
   "metadata": {},
   "outputs": [],
   "source": [
    "%matplotlib widget"
   ]
  },
  {
   "cell_type": "code",
   "execution_count": 2,
   "metadata": {},
   "outputs": [],
   "source": [
    "import geopandas as gpd\n",
    "import pandas as pd\n",
    "import matplotlib.pyplot as plt\n",
    "import ipyleaflet as leaf\n",
    "import ipywidgets as ipyw\n",
    "from shapely.geometry import Polygon\n",
    "import sqlite3 as sql\n",
    "from matplotlib.dates import YearLocator\n"
   ]
  },
  {
   "cell_type": "code",
   "execution_count": 3,
   "metadata": {},
   "outputs": [
    {
     "name": "stderr",
     "output_type": "stream",
     "text": [
      "/tmp/ipykernel_12729/350249023.py:2: FutureWarning: The geopandas.dataset module is deprecated and will be removed in GeoPandas 1.0. You can get the original 'naturalearth_lowres' data from https://www.naturalearthdata.com/downloads/110m-cultural-vectors/.\n",
      "  europe = gpd.read_file(gpd.datasets.get_path(\"naturalearth_lowres\"))\n"
     ]
    }
   ],
   "source": [
    "#gets the data for the world map from geopandas\n",
    "europe = gpd.read_file(gpd.datasets.get_path(\"naturalearth_lowres\"))\n",
    "\n",
    "#remove countries that arent part of europe\n",
    "europe=europe[europe.continent == \"Europe\"]\n",
    "europe=europe[(europe.name != \"Russia\")]\n",
    "\n",
    "#creates a bounding box to remove parts of countries that arent in europe, e.g. french guiana\n",
    "polygon = Polygon([(-25,35), (40,35), (40,75),(-25,75)])\n",
    "poly_gdf = gpd.GeoDataFrame([1], geometry=[polygon], crs=europe.crs)\n",
    "europe = gpd.clip(europe, polygon)"
   ]
  },
  {
   "cell_type": "code",
   "execution_count": 12,
   "metadata": {},
   "outputs": [
    {
     "name": "stderr",
     "output_type": "stream",
     "text": [
      "/tmp/ipykernel_12729/4129643154.py:23: UserWarning: Could not infer format, so each element will be parsed individually, falling back to `dateutil`. To ensure parsing is consistent and as-expected, please specify a format.\n",
      "  country_df['Date'] = pd.to_datetime(country_df['Date'], dayfirst=True)\n"
     ]
    },
    {
     "data": {
      "application/vnd.jupyter.widget-view+json": {
       "model_id": "7306f2d9059f4705b599183ea5837cb6",
       "version_major": 2,
       "version_minor": 0
      },
      "text/plain": [
       "HBox(children=(Map(center=[56, 10], controls=(AttributionControl(options=['position', 'prefix'], position='bot…"
      ]
     },
     "execution_count": 12,
     "metadata": {},
     "output_type": "execute_result"
    },
    {
     "name": "stderr",
     "output_type": "stream",
     "text": [
      "/tmp/ipykernel_12729/4129643154.py:72: UserWarning: Could not infer format, so each element will be parsed individually, falling back to `dateutil`. To ensure parsing is consistent and as-expected, please specify a format.\n",
      "  country_df['Date'] = pd.to_datetime(country_df['Date'], dayfirst=True)\n",
      "/tmp/ipykernel_12729/4129643154.py:72: UserWarning: Could not infer format, so each element will be parsed individually, falling back to `dateutil`. To ensure parsing is consistent and as-expected, please specify a format.\n",
      "  country_df['Date'] = pd.to_datetime(country_df['Date'], dayfirst=True)\n",
      "/tmp/ipykernel_12729/4129643154.py:72: UserWarning: Could not infer format, so each element will be parsed individually, falling back to `dateutil`. To ensure parsing is consistent and as-expected, please specify a format.\n",
      "  country_df['Date'] = pd.to_datetime(country_df['Date'], dayfirst=True)\n",
      "/tmp/ipykernel_12729/4129643154.py:72: UserWarning: Could not infer format, so each element will be parsed individually, falling back to `dateutil`. To ensure parsing is consistent and as-expected, please specify a format.\n",
      "  country_df['Date'] = pd.to_datetime(country_df['Date'], dayfirst=True)\n",
      "/tmp/ipykernel_12729/4129643154.py:72: UserWarning: Could not infer format, so each element will be parsed individually, falling back to `dateutil`. To ensure parsing is consistent and as-expected, please specify a format.\n",
      "  country_df['Date'] = pd.to_datetime(country_df['Date'], dayfirst=True)\n"
     ]
    }
   ],
   "source": [
    "con = sql.connect('countries2')\n",
    "#defines function for querying the database\n",
    "def get_country_data(country_name='Slovakia'):\n",
    "    query1a = \"SELECT Date, Petrol, Diesel FROM Countries WHERE name = ?\"\n",
    "    try:\n",
    "        data = pd.read_sql_query(query1a, con, params=(country_name,))\n",
    "        return data\n",
    "    except pd.errors.EmptyDataError:\n",
    "        print(f\"No data found for {country_name}.\")\n",
    "        return None\n",
    "\n",
    "#creates a base state for the graph that is not interactive\n",
    "with plt.ioff():\n",
    "    fig = plt.figure(figsize=(6,4))\n",
    "    ax = fig.add_subplot(1, 1, 1)\n",
    "\n",
    "    country = 'Germany'\n",
    "    \n",
    "    country_df = get_country_data(country)\n",
    "    # Check if data is available before proceeding\n",
    "    if country_df is not None:\n",
    "    \n",
    "        country_df['Date'] = pd.to_datetime(country_df['Date'], dayfirst=True)\n",
    "        # Remove commas from the 'Petrol' and 'Diesel' columns\n",
    "        country_df['Petrol'] = country_df['Petrol'].replace({',': ''}, regex=True)\n",
    "        country_df['Diesel'] = country_df['Diesel'].str.replace(',', '')\n",
    "\n",
    "        country_df['Petrol'] = pd.to_numeric(country_df['Petrol'])\n",
    "        country_df['Diesel'] = pd.to_numeric(country_df['Diesel'])\n",
    "\n",
    "        df_subset = country_df.iloc[0:]\n",
    "        # Create a plot\n",
    "        #plt.figure(figsize=(10, 6))\n",
    "        ax.plot(df_subset['Date'], df_subset['Petrol'], label='Petrol', color='red')\n",
    "        ax.plot(df_subset['Date'], df_subset['Diesel'], label='Diesel', color='blue')\n",
    "\n",
    "        # Adjust x-axis ticks\n",
    "        plt.xticks(df_subset['Date'][::50], rotation=45)\n",
    "\n",
    "        plt.gca().xaxis.set_major_locator(YearLocator())\n",
    "        # Invert x-axis\n",
    "    \n",
    "        plt.gca().invert_xaxis()\n",
    "\n",
    "        # Add labels, limits and title\n",
    "        start_date = pd.to_datetime('2004-12-30')\n",
    "        end_date = pd.to_datetime('2023-12-01')\n",
    "        plt.xlim(start_date, end_date)\n",
    "        plt.ylim(0, 1800)\n",
    "        plt.xlabel('Year', size = 12)\n",
    "        plt.ylabel('Price (€)', size = 12)\n",
    "        plt.title(f'{country}', size = 18)\n",
    "\n",
    "        # Adjust legend placement\n",
    "        plt.legend(loc='upper left', fontsize = 11)\n",
    "    #formatting of graph\n",
    "    fig.canvas.toolbar_visible=False\n",
    "    fig.canvas.header_visible=False\n",
    "    fig.canvas.footer_visible=False\n",
    "    fig.canvas.resizable=False\n",
    "\n",
    "    plt.tight_layout()\n",
    "\n",
    "#a function to update the graph when a country is clicked\n",
    "def update_graph(country):\n",
    "    con = sql.connect('countries2')\n",
    "    ax.clear()\n",
    "    country_df = get_country_data(country)\n",
    "    # Check if data is available before proceeding\n",
    "    if country_df is not None:\n",
    "    \n",
    "        country_df['Date'] = pd.to_datetime(country_df['Date'], dayfirst=True)\n",
    "        # Remove commas from the 'Petrol' and 'Diesel' columns\n",
    "        country_df['Petrol'] = country_df['Petrol'].replace({',': ''}, regex=True)\n",
    "        country_df['Diesel'] = country_df['Diesel'].str.replace(',', '')\n",
    "\n",
    "        country_df['Petrol'] = pd.to_numeric(country_df['Petrol'])\n",
    "        country_df['Diesel'] = pd.to_numeric(country_df['Diesel'])\n",
    "\n",
    "        df_subset = country_df.iloc[0:]\n",
    "        # Create a plot\n",
    "        ax.plot(df_subset['Date'], df_subset['Petrol'], label='Petrol', color = 'red')\n",
    "        ax.plot(df_subset['Date'], df_subset['Diesel'], label='Diesel', color = 'blue')\n",
    "\n",
    "        # Adjust x-axis ticks\n",
    "        plt.xticks(df_subset['Date'][::50], rotation=45)\n",
    "\n",
    "        plt.gca().xaxis.set_major_locator(YearLocator())\n",
    "        # Invert x-axis\n",
    "    \n",
    "        plt.gca().invert_xaxis()\n",
    "\n",
    "        # Add labels, limits and title\n",
    "        start_date = pd.to_datetime('2004-12-30')\n",
    "        end_date = pd.to_datetime('2023-12-01')\n",
    "        plt.xlim(start_date, end_date)\n",
    "        plt.ylim(0, 1800)\n",
    "        plt.xlabel('Year', size = 12)\n",
    "        plt.ylabel('Price (€)', size = 12)\n",
    "        plt.title(f'{country}', size = 18)\n",
    "\n",
    "        # Adjust legend placement\n",
    "        plt.legend(loc='upper left', fontsize = 11)\n",
    "\n",
    "    con.close()\n",
    "\n",
    "#defines the ipyleaflet basemap\n",
    "m = leaf.Map(center = (56, 10), \n",
    "             zoom = 3, \n",
    "             layout=ipyw.Layout(width='45%', height='350px'),\n",
    "             min_zoom = 3,\n",
    "             scroll_wheel_zoom = True,\n",
    "             zoom_control = False\n",
    "             )\n",
    "\n",
    "#uses the data from the europe map to create an overlay for the interactivity\n",
    "geo_data = leaf.GeoData(geo_dataframe = europe,\n",
    "                   style={'fillColor':'green','color':'black','opacity':0.6, 'weight':2, 'dashArray':'0', 'fillOpacity':0.6},\n",
    "                   hover_style={'fillColor': 'green' ,'color':'black', 'fillOpacity': 0.2},\n",
    "                   name = 'Countries')\n",
    "\n",
    "m.add_layer(geo_data)\n",
    "\n",
    "#defines what should happen when a country is clicked\n",
    "def when_clicked(event, feature, **kwargs):\n",
    "    update_graph(feature['properties']['name'])\n",
    "\n",
    "#calls the function to be used on click\n",
    "geo_data.on_click(when_clicked)\n",
    "\n",
    "#draws the layout of the display\n",
    "ipyw.HBox([m ,fig.canvas], layout=ipyw.Layout(flex='1 1', width='70%'))\n"
   ]
  }
 ],
 "metadata": {
  "kernelspec": {
   "display_name": "Python 3",
   "language": "python",
   "name": "python3"
  },
  "language_info": {
   "codemirror_mode": {
    "name": "ipython",
    "version": 3
   },
   "file_extension": ".py",
   "mimetype": "text/x-python",
   "name": "python",
   "nbconvert_exporter": "python",
   "pygments_lexer": "ipython3",
   "version": "3.11.4"
  }
 },
 "nbformat": 4,
 "nbformat_minor": 2
}
